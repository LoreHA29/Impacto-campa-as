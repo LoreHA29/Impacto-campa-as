{
 "cells": [
  {
   "cell_type": "code",
   "execution_count": 1,
   "id": "108cdaf8",
   "metadata": {},
   "outputs": [],
   "source": [
    "import pandas as pd"
   ]
  },
  {
   "cell_type": "markdown",
   "id": "646d3f18",
   "metadata": {},
   "source": [
    "### Lectura de Información "
   ]
  },
  {
   "cell_type": "code",
   "execution_count": 2,
   "id": "5e78219a",
   "metadata": {},
   "outputs": [],
   "source": [
    "northwind_order_details=pd.read_csv(r'C:\\Users\\Lore89\\Desktop\\Analisis de Datos\\Proyectos\\impacto-campañas\\Impacto-campa-as\\datasets\\northwind_order_details.csv')"
   ]
  },
  {
   "cell_type": "code",
   "execution_count": 3,
   "id": "ff1e31c4",
   "metadata": {},
   "outputs": [],
   "source": [
    "northwind_orders=pd.read_csv(r'C:\\Users\\Lore89\\Desktop\\Analisis de Datos\\Proyectos\\impacto-campañas\\Impacto-campa-as\\datasets\\northwind_orders.csv')"
   ]
  },
  {
   "cell_type": "code",
   "execution_count": null,
   "id": "b9ebfb1d",
   "metadata": {},
   "outputs": [],
   "source": []
  }
 ],
 "metadata": {
  "kernelspec": {
   "display_name": "Python 3 (ipykernel)",
   "language": "python",
   "name": "python3"
  },
  "language_info": {
   "codemirror_mode": {
    "name": "ipython",
    "version": 3
   },
   "file_extension": ".py",
   "mimetype": "text/x-python",
   "name": "python",
   "nbconvert_exporter": "python",
   "pygments_lexer": "ipython3",
   "version": "3.9.13"
  }
 },
 "nbformat": 4,
 "nbformat_minor": 5
}
